{
  "nbformat": 4,
  "nbformat_minor": 0,
  "metadata": {
    "colab": {
      "provenance": []
    },
    "kernelspec": {
      "name": "python3",
      "display_name": "Python 3"
    },
    "language_info": {
      "name": "python"
    }
  },
  "cells": [
    {
      "cell_type": "code",
      "execution_count": null,
      "metadata": {
        "id": "4wplx-mOIWDi"
      },
      "outputs": [],
      "source": [
        "import torch\n",
        "import torch.nn as nn\n",
        "\n",
        "import numpy as np"
      ]
    },
    {
      "cell_type": "code",
      "source": [],
      "metadata": {
        "id": "IZOhJ8U34VKW"
      },
      "execution_count": null,
      "outputs": []
    },
    {
      "cell_type": "markdown",
      "source": [
        "## MNIST 데이터셋 불러오기"
      ],
      "metadata": {
        "id": "WtNTiAvLZGhi"
      }
    },
    {
      "cell_type": "code",
      "source": [
        "from torchvision import datasets, transforms\n",
        "from torch.utils.data import DataLoader"
      ],
      "metadata": {
        "id": "eb3z-_mmZhIH"
      },
      "execution_count": null,
      "outputs": []
    },
    {
      "cell_type": "markdown",
      "source": [
        "토치비전이라는 라이브러리 , 이미지 영상처리에 사용되는 라이브러리이다. "
      ],
      "metadata": {
        "id": "XbjQX-FW4X4P"
      }
    },
    {
      "cell_type": "code",
      "source": [
        "mnist_train = datasets.MNIST(root='MNIST_data/',\n",
        "                             train=True,\n",
        "                             transform=transforms.ToTensor(),\n",
        "                             download=True)\n",
        "\n",
        "mnist_test = datasets.MNIST(root='MNIST_data/',\n",
        "                            train=False,\n",
        "                            transform=transforms.ToTensor(),\n",
        "                            download=True)"
      ],
      "metadata": {
        "id": "dp43BLiVZc_x"
      },
      "execution_count": null,
      "outputs": []
    },
    {
      "cell_type": "markdown",
      "source": [
        "데이터셋 읽어오는 과정"
      ],
      "metadata": {
        "id": "hz9RMU-C4bb-"
      }
    },
    {
      "cell_type": "code",
      "source": [
        "mnist_train"
      ],
      "metadata": {
        "id": "COJH6VFffBFi",
        "colab": {
          "base_uri": "https://localhost:8080/"
        },
        "outputId": "70b7c509-cc5f-4b56-a9e0-92d19ef189dd"
      },
      "execution_count": null,
      "outputs": [
        {
          "output_type": "execute_result",
          "data": {
            "text/plain": [
              "Dataset MNIST\n",
              "    Number of datapoints: 60000\n",
              "    Root location: MNIST_data/\n",
              "    Split: Train\n",
              "    StandardTransform\n",
              "Transform: ToTensor()"
            ]
          },
          "metadata": {},
          "execution_count": 10
        }
      ]
    },
    {
      "cell_type": "code",
      "source": [
        "mnist_test"
      ],
      "metadata": {
        "id": "vU1fTjzDfgze",
        "colab": {
          "base_uri": "https://localhost:8080/"
        },
        "outputId": "36117db0-e441-4687-b92b-e509fa65bd2f"
      },
      "execution_count": null,
      "outputs": [
        {
          "output_type": "execute_result",
          "data": {
            "text/plain": [
              "Dataset MNIST\n",
              "    Number of datapoints: 10000\n",
              "    Root location: MNIST_data/\n",
              "    Split: Test\n",
              "    StandardTransform\n",
              "Transform: ToTensor()"
            ]
          },
          "metadata": {},
          "execution_count": 11
        }
      ]
    },
    {
      "cell_type": "markdown",
      "source": [
        "각각 트레인 테스트 정보들"
      ],
      "metadata": {
        "id": "zNDPeUmd49L_"
      }
    },
    {
      "cell_type": "code",
      "source": [
        "mnist_train.data.shape"
      ],
      "metadata": {
        "id": "uPqdL_uufi_y",
        "colab": {
          "base_uri": "https://localhost:8080/"
        },
        "outputId": "779ed492-fbcc-4159-8232-e6f2a809ed2a"
      },
      "execution_count": null,
      "outputs": [
        {
          "output_type": "execute_result",
          "data": {
            "text/plain": [
              "torch.Size([60000, 28, 28])"
            ]
          },
          "metadata": {},
          "execution_count": 12
        }
      ]
    },
    {
      "cell_type": "markdown",
      "source": [
        "데이터의 차원을 항상 신경써야한다. "
      ],
      "metadata": {
        "id": "jJiN4m5-5Aev"
      }
    },
    {
      "cell_type": "code",
      "source": [
        "input_dim = mnist_train.data.shape[1] * mnist_train.data.shape[2]\n",
        "output_dim = 10"
      ],
      "metadata": {
        "id": "E1l_mSRieWQu"
      },
      "execution_count": null,
      "outputs": []
    },
    {
      "cell_type": "markdown",
      "source": [
        "뒷쪽에 모델을 정의할때 사용할려고 만든것임. input 디비전의 크리를 생각해보면 쭉펴서 풀리커넥티드에 넣는다고 생각해도면 리니어하게 되어있으니 28*28만큼 들어감 "
      ],
      "metadata": {
        "id": "fLBngoQl5Riv"
      }
    },
    {
      "cell_type": "code",
      "source": [
        "train_loader = DataLoader(dataset=mnist_train, batch_size=100, shuffle=True)\n",
        "test_loader = DataLoader(dataset=mnist_test, batch_size=100, shuffle=False)"
      ],
      "metadata": {
        "id": "WM_3B1UIZoTO"
      },
      "execution_count": null,
      "outputs": []
    },
    {
      "cell_type": "markdown",
      "source": [
        "## 다층 퍼셉트론으로 MNIST 손글씨 분류하기"
      ],
      "metadata": {
        "id": "CRRM50DUalRU"
      }
    },
    {
      "cell_type": "code",
      "source": [
        "tmp = torch.randn((100, 1, 28, 28))\n",
        "tmp.shape"
      ],
      "metadata": {
        "id": "jR900tDehDmd",
        "colab": {
          "base_uri": "https://localhost:8080/"
        },
        "outputId": "714e8c6d-3e67-472e-bc8a-3459c32d55cc"
      },
      "execution_count": null,
      "outputs": [
        {
          "output_type": "execute_result",
          "data": {
            "text/plain": [
              "torch.Size([100, 1, 28, 28])"
            ]
          },
          "metadata": {},
          "execution_count": 15
        }
      ]
    },
    {
      "cell_type": "markdown",
      "source": [
        "진행할때 꼭 필요한 부분은 아니나 차원에 대한 이해를 위해서 임의의 난수를 만듬.\n",
        "view 함수 설명하기 위해서 있는 것임"
      ],
      "metadata": {
        "id": "sk1IrENA6Qg_"
      }
    },
    {
      "cell_type": "code",
      "source": [
        "tmp = tmp.view(tmp.size(0), -1)\n",
        "tmp.shape"
      ],
      "metadata": {
        "id": "H_llocyJhSZx",
        "colab": {
          "base_uri": "https://localhost:8080/"
        },
        "outputId": "d093b373-c353-42e8-a1bb-389760571873"
      },
      "execution_count": null,
      "outputs": [
        {
          "output_type": "execute_result",
          "data": {
            "text/plain": [
              "torch.Size([100, 784])"
            ]
          },
          "metadata": {},
          "execution_count": 16
        }
      ]
    },
    {
      "cell_type": "markdown",
      "source": [
        "view라는 함수는 해당하는 차원으로 tmp의 형태를 바꿔준다. 원소의 값을 유지시키나 차원의 형태를 바꿔줌 . 맨처음에 있는 차원은 첫번째 차원은 그대로 가져가고 -1라는  의미는 알아서 해달라는 의미이다. "
      ],
      "metadata": {
        "id": "zaMSjAf26Xw2"
      }
    },
    {
      "cell_type": "code",
      "source": [
        "class MLP(nn.Module):\n",
        "    def __init__(self, input_dim, output_dim):\n",
        "        super(MLP,self).__init__()\n",
        "        self.fc1 = nn.Linear(input_dim,100)\n",
        "        self.fc2 = nn.Linear(100,100)\n",
        "        self.fc3 = nn.Linear(100,output_dim)\n",
        "        \n",
        "        self.relu = nn.ReLU()\n",
        "    def forward(self,x):\n",
        "        x = self.relu(self.fc1(x))\n",
        "        x = self.relu(self.fc2(x))\n",
        "        x = self.fc3(x)\n",
        "        return x\n",
        "\n",
        "MLP_classifier = MLP(input_dim, output_dim)"
      ],
      "metadata": {
        "id": "AupSHUwDa45R"
      },
      "execution_count": null,
      "outputs": []
    },
    {
      "cell_type": "markdown",
      "source": [
        "인풋dim 아우풋dim를 mlp만들때 사용한다. "
      ],
      "metadata": {
        "id": "J_X1LQ5s7CqP"
      }
    },
    {
      "cell_type": "code",
      "source": [
        "criterion = nn.CrossEntropyLoss()\n",
        "optimizer = torch.optim.Adam(MLP_classifier.parameters(), lr=1e-2)"
      ],
      "metadata": {
        "id": "RBt2FARl4Zej"
      },
      "execution_count": null,
      "outputs": []
    },
    {
      "cell_type": "markdown",
      "source": [],
      "metadata": {
        "id": "6vByvkR-7bZP"
      }
    },
    {
      "cell_type": "code",
      "source": [
        "for epoch in range(10):\n",
        "    for X, y in train_loader:\n",
        "        optimizer.zero_grad()\n",
        "        X = X.view(X.size(0), -1)\n",
        "        y_pred = MLP_classifier(X)\n",
        "        loss = criterion(y_pred, y)\n",
        "        loss.backward()\n",
        "        optimizer.step()\n",
        "\n",
        "    print(\"loss of {} epoch: {}\".format(epoch, loss.item()))"
      ],
      "metadata": {
        "id": "WZNqWoQjI2YA",
        "colab": {
          "base_uri": "https://localhost:8080/"
        },
        "outputId": "f4182115-60b9-40ce-deb6-62139b1a8987"
      },
      "execution_count": null,
      "outputs": [
        {
          "output_type": "stream",
          "name": "stdout",
          "text": [
            "loss of 0 epoch: 0.12353382259607315\n",
            "loss of 1 epoch: 0.12012302130460739\n",
            "loss of 2 epoch: 0.0906856432557106\n",
            "loss of 3 epoch: 0.12730292975902557\n",
            "loss of 4 epoch: 0.15605437755584717\n",
            "loss of 5 epoch: 0.05139518156647682\n",
            "loss of 6 epoch: 0.0417679063975811\n",
            "loss of 7 epoch: 0.010552599094808102\n",
            "loss of 8 epoch: 0.053344909101724625\n",
            "loss of 9 epoch: 0.15670929849147797\n"
          ]
        }
      ]
    },
    {
      "cell_type": "markdown",
      "source": [
        "view들어간 이유는 차원을 바꿔주는 효과 -> 배치사이즈를 바꿔주니 우리가 구성한 네트워크는 mlp이니까 2차원 인풋을 받아드리지 못함 그래서 그것을 벡터형태로 쭉 펼쳐서 바꿔줌 "
      ],
      "metadata": {
        "id": "8xhHQTsR7t6P"
      }
    },
    {
      "cell_type": "code",
      "source": [
        "MLP_classifier.eval()\n",
        "test_loss = 0\n",
        "correct = 0\n",
        "with torch.no_grad():\n",
        "    for X_test, y in test_loader:\n",
        "        X_test = X_test.view(X_test.size(0), -1)\n",
        "        y_pred = MLP_classifier(X_test)\n",
        "        _, predicted = torch.max(y_pred.data, 1)\n",
        "        correct += predicted.eq(y.data.view_as(predicted)).sum()\n",
        "\n",
        "    # 정확도 출력\n",
        "    data_num = len(test_loader.dataset)  # 데이터 총 건수\n",
        "    print('\\n테스트 데이터 예측 정확도: {}/{} ({:.0f}%)\\n'.format(correct,\n",
        "                                                   data_num, 100. * correct / data_num))"
      ],
      "metadata": {
        "id": "fysXCOM8gDzF",
        "colab": {
          "base_uri": "https://localhost:8080/"
        },
        "outputId": "fe6055f3-71b6-4b9a-8d7f-6af20839bee8"
      },
      "execution_count": null,
      "outputs": [
        {
          "output_type": "stream",
          "name": "stdout",
          "text": [
            "\n",
            "테스트 데이터 예측 정확도: 9714/10000 (97%)\n",
            "\n"
          ]
        }
      ]
    },
    {
      "cell_type": "markdown",
      "source": [
        "모델이 받아들이는게 xtest로 똑같이 view를 통해서 바꿔서 예측 해줘야한다.\n",
        "\n",
        "분류를 할려면 0~9중 하나 고르는 과정 _, predicted = torch.max(y_pred.data, 1)\n"
      ],
      "metadata": {
        "id": "NkrsezHw8MvI"
      }
    },
    {
      "cell_type": "markdown",
      "source": [
        "## CNN으로 MNIST 손글씨 분류하기\n",
        "\n",
        "- 1번 레이어 : 합성곱층(Convolutional layer)\n",
        " - 합성곱(in_channel = 1, out_channel = 32, kernel_size=3, stride=1, padding=1) + 활성화 함수 ReLU\n",
        " - 맥스풀링(kernel_size=2, stride=2))\n",
        "\n",
        "- 2번 레이어 : 합성곱층(Convolutional layer)\n",
        " - 합성곱(in_channel = 32, out_channel = 64, kernel_size=3, stride=1, padding=1) + 활성화 함수 ReLU\n",
        " - 맥스풀링(kernel_size=2, stride=2))\n",
        "\n",
        "- 3번 레이어 : 전결합층(Fully-Connected layer)\n",
        " - 전결합층 (입력 **????** / 출력 10) + 활성화 함수 Softmax"
      ],
      "metadata": {
        "id": "rHy1cKLkmc5L"
      }
    },
    {
      "cell_type": "code",
      "source": [
        "tmp = torch.randn((100, 1, 28, 28))\n",
        "conv1 = nn.Conv2d(1, 32, kernel_size=3, stride=1, padding=1)\n",
        "conv2 = nn.Conv2d(32, 64, kernel_size=3, stride=1, padding=1)\n",
        "maxpool = nn.MaxPool2d(kernel_size=2, stride=2)"
      ],
      "metadata": {
        "id": "ZN0bX3VypR5Z"
      },
      "execution_count": null,
      "outputs": []
    },
    {
      "cell_type": "code",
      "source": [
        "tmp = conv1(tmp)\n",
        "tmp.shape"
      ],
      "metadata": {
        "id": "8vUF8-BFplwc",
        "colab": {
          "base_uri": "https://localhost:8080/"
        },
        "outputId": "a9f19e9f-9c4c-4357-fb32-653e25e6f01e"
      },
      "execution_count": null,
      "outputs": [
        {
          "output_type": "execute_result",
          "data": {
            "text/plain": [
              "torch.Size([100, 32, 28, 28])"
            ]
          },
          "metadata": {},
          "execution_count": 23
        }
      ]
    },
    {
      "cell_type": "markdown",
      "source": [
        "아웃채널이 32라서 32"
      ],
      "metadata": {
        "id": "YJusyHOS__sJ"
      }
    },
    {
      "cell_type": "code",
      "source": [
        "tmp = maxpool(tmp)\n",
        "tmp.shape"
      ],
      "metadata": {
        "id": "ulBu5VJjp4AE",
        "colab": {
          "base_uri": "https://localhost:8080/"
        },
        "outputId": "8a460831-4376-4197-937c-15bc983d0f1a"
      },
      "execution_count": null,
      "outputs": [
        {
          "output_type": "execute_result",
          "data": {
            "text/plain": [
              "torch.Size([100, 32, 14, 14])"
            ]
          },
          "metadata": {},
          "execution_count": 24
        }
      ]
    },
    {
      "cell_type": "markdown",
      "source": [
        "채널 갯수는 동일한데 크기가 줄어듬 즉 이미지의 크기가 줄어든다"
      ],
      "metadata": {
        "id": "SOFkYgpUACHA"
      }
    },
    {
      "cell_type": "code",
      "source": [
        "tmp = conv2(tmp)\n",
        "tmp.shape"
      ],
      "metadata": {
        "id": "lEXDBJXIp6Cp",
        "colab": {
          "base_uri": "https://localhost:8080/"
        },
        "outputId": "217ed753-3ae6-4a00-9d7d-afeb58fbf0b1"
      },
      "execution_count": null,
      "outputs": [
        {
          "output_type": "execute_result",
          "data": {
            "text/plain": [
              "torch.Size([100, 64, 14, 14])"
            ]
          },
          "metadata": {},
          "execution_count": 25
        }
      ]
    },
    {
      "cell_type": "code",
      "source": [
        "tmp = maxpool(tmp)\n",
        "tmp.shape"
      ],
      "metadata": {
        "id": "IM15W875p7ob",
        "colab": {
          "base_uri": "https://localhost:8080/"
        },
        "outputId": "45421dff-d249-4424-8823-0b7eec8ff4b2"
      },
      "execution_count": null,
      "outputs": [
        {
          "output_type": "execute_result",
          "data": {
            "text/plain": [
              "torch.Size([100, 64, 7, 7])"
            ]
          },
          "metadata": {},
          "execution_count": 26
        }
      ]
    },
    {
      "cell_type": "code",
      "source": [
        "class CNN(torch.nn.Module):\n",
        "    def __init__(self):\n",
        "        super(CNN, self).__init__()\n",
        "        self.conv1 = nn.Conv2d(1, 32, kernel_size=3, stride=1, padding=1)\n",
        "        self.conv2 = nn.Conv2d(32, 64, kernel_size=3, stride=1, padding=1)\n",
        "        self.fc = torch.nn.Linear(7 * 7 * 64, 10)\n",
        "        self.maxpool = nn.MaxPool2d(kernel_size=2, stride=2)\n",
        "        self.relu = nn.ReLU()\n",
        "\n",
        "    def forward(self, x):\n",
        "        x = self.relu(self.conv1(x))\n",
        "        x = self.maxpool(x)\n",
        "        x = self.relu(self.conv2(x))\n",
        "        x = self.maxpool(x)\n",
        "        x = x.view(x.size(0), -1)\n",
        "        x = self.fc(x)\n",
        "        return x\n",
        "  \n",
        "CNN_classifier = CNN()"
      ],
      "metadata": {
        "id": "pEE2KHQ2mgEH"
      },
      "execution_count": null,
      "outputs": []
    },
    {
      "cell_type": "markdown",
      "source": [
        "maxpool로 차원을 늘려줌\n"
      ],
      "metadata": {
        "id": "OSCrzKV-A1Oh"
      }
    },
    {
      "cell_type": "code",
      "source": [
        "criterion = nn.CrossEntropyLoss()\n",
        "optimizer = torch.optim.Adam(CNN_classifier.parameters(), lr=1e-2)"
      ],
      "metadata": {
        "id": "TP4v0U3-qPYC"
      },
      "execution_count": null,
      "outputs": []
    },
    {
      "cell_type": "code",
      "source": [
        "for epoch in range(3):\n",
        "    for X, y in train_loader:\n",
        "        optimizer.zero_grad()\n",
        "        y_pred = CNN_classifier(X)\n",
        "        loss = criterion(y_pred, y)\n",
        "        loss.backward()\n",
        "        optimizer.step()\n",
        "\n",
        "    print(\"loss of {} epoch: {}\".format(epoch, loss.item()))"
      ],
      "metadata": {
        "id": "eX-GvmKKqQB8",
        "colab": {
          "base_uri": "https://localhost:8080/"
        },
        "outputId": "45c00c7c-e948-4436-bfca-116832fe8ac8"
      },
      "execution_count": null,
      "outputs": [
        {
          "output_type": "stream",
          "name": "stdout",
          "text": [
            "loss of 0 epoch: 0.24180564284324646\n",
            "loss of 1 epoch: 0.06301598250865936\n",
            "loss of 2 epoch: 0.10591074824333191\n"
          ]
        }
      ]
    },
    {
      "cell_type": "markdown",
      "source": [
        "여기는 바로 이미지 처리르 하기때문에 펴주는작없이 필요없다(view) 컨볼루션 layer에서 바로 나오기때문이다. 로스를 최소화 하는 방향으로 파라미터들이 계속 업데이트되면서 앞에는 1자로 펼쳐서 넣어줘야하고 이것은 그럴 필요가 없다.\n"
      ],
      "metadata": {
        "id": "Wa31q3F-BL1Z"
      }
    },
    {
      "cell_type": "code",
      "source": [
        "CNN_classifier.eval()\n",
        "test_loss = 0\n",
        "correct = 0\n",
        "with torch.no_grad():\n",
        "    for X_test, y in test_loader:\n",
        "        y_pred = CNN_classifier(X_test)\n",
        "        _, predicted = torch.max(y_pred.data, 1)\n",
        "        correct += predicted.eq(y.data.view_as(predicted)).sum()\n",
        "\n",
        "    # 정확도 출력\n",
        "    data_num = len(test_loader.dataset)  # 데이터 총 건수\n",
        "    print('\\n테스트 데이터 예측 정확도: {}/{} ({:.0f}%)\\n'.format(correct,\n",
        "                                                   data_num, 100. * correct / data_num))"
      ],
      "metadata": {
        "id": "pPbrF2jpqZt8",
        "colab": {
          "base_uri": "https://localhost:8080/"
        },
        "outputId": "a38207bc-8b03-4e0b-ea28-12ad7b99724b"
      },
      "execution_count": null,
      "outputs": [
        {
          "output_type": "stream",
          "name": "stdout",
          "text": [
            "\n",
            "테스트 데이터 예측 정확도: 9609/10000 (96%)\n",
            "\n"
          ]
        }
      ]
    },
    {
      "cell_type": "markdown",
      "source": [
        "마지막에 fuul connected layer를 통해서 "
      ],
      "metadata": {
        "id": "NdurTyU3B0Lh"
      }
    }
  ]
}